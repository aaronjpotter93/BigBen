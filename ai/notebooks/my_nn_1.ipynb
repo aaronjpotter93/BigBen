{
 "cells": [
  {
   "cell_type": "code",
   "execution_count": 74,
   "metadata": {},
   "outputs": [],
   "source": [
    "import pandas as pd\n",
    "from sklearn.model_selection import train_test_split\n",
    "from sklearn.preprocessing import StandardScaler\n",
    "from sklearn.neural_network import MLPClassifier\n",
    "from sklearn.neural_network import MLPRegressor\n",
    "from sklearn.metrics import classification_report, confusion_matrix\n",
    "import numpy as np"
   ]
  },
  {
   "cell_type": "code",
   "execution_count": 75,
   "metadata": {},
   "outputs": [
    {
     "data": {
      "text/html": [
       "<div>\n",
       "<style scoped>\n",
       "    .dataframe tbody tr th:only-of-type {\n",
       "        vertical-align: middle;\n",
       "    }\n",
       "\n",
       "    .dataframe tbody tr th {\n",
       "        vertical-align: top;\n",
       "    }\n",
       "\n",
       "    .dataframe thead th {\n",
       "        text-align: right;\n",
       "    }\n",
       "</style>\n",
       "<table border=\"1\" class=\"dataframe\">\n",
       "  <thead>\n",
       "    <tr style=\"text-align: right;\">\n",
       "      <th></th>\n",
       "      <th>Day</th>\n",
       "      <th>Month</th>\n",
       "      <th>Year</th>\n",
       "      <th>Amount</th>\n",
       "      <th>Five Guys</th>\n",
       "      <th>In N Out</th>\n",
       "      <th>Chick-Fil-A</th>\n",
       "      <th>Little Caesars</th>\n",
       "      <th>Cafe Rio</th>\n",
       "      <th>Taco Bell</th>\n",
       "      <th>...</th>\n",
       "      <th>Rancheritos</th>\n",
       "      <th>Mesq Mex Grill</th>\n",
       "      <th>Flying Pie Pizzeria</th>\n",
       "      <th>Jimmy Johns</th>\n",
       "      <th>Pizza Hut</th>\n",
       "      <th>Rocky Mountain Power</th>\n",
       "      <th>QuestarGas</th>\n",
       "      <th>GrangerHunter</th>\n",
       "      <th>WVCC</th>\n",
       "      <th>Categories</th>\n",
       "    </tr>\n",
       "  </thead>\n",
       "  <tbody>\n",
       "    <tr>\n",
       "      <th>0</th>\n",
       "      <td>3</td>\n",
       "      <td>9</td>\n",
       "      <td>2021</td>\n",
       "      <td>-28.5</td>\n",
       "      <td>0</td>\n",
       "      <td>0</td>\n",
       "      <td>0</td>\n",
       "      <td>0</td>\n",
       "      <td>0</td>\n",
       "      <td>0</td>\n",
       "      <td>...</td>\n",
       "      <td>0</td>\n",
       "      <td>0</td>\n",
       "      <td>0</td>\n",
       "      <td>0</td>\n",
       "      <td>0</td>\n",
       "      <td>0</td>\n",
       "      <td>0</td>\n",
       "      <td>0</td>\n",
       "      <td>1</td>\n",
       "      <td>2</td>\n",
       "    </tr>\n",
       "  </tbody>\n",
       "</table>\n",
       "<p>1 rows × 27 columns</p>\n",
       "</div>"
      ],
      "text/plain": [
       "   Day  Month  Year  Amount  Five Guys  In N Out  Chick-Fil-A  Little Caesars  \\\n",
       "0    3      9  2021   -28.5          0         0            0               0   \n",
       "\n",
       "   Cafe Rio  Taco Bell  ...  Rancheritos  Mesq Mex Grill  Flying Pie Pizzeria  \\\n",
       "0         0          0  ...            0               0                    0   \n",
       "\n",
       "   Jimmy Johns  Pizza Hut  Rocky Mountain Power  QuestarGas  GrangerHunter  \\\n",
       "0            0          0                     0           0              0   \n",
       "\n",
       "   WVCC  Categories  \n",
       "0     1           2  \n",
       "\n",
       "[1 rows x 27 columns]"
      ]
     },
     "execution_count": 75,
     "metadata": {},
     "output_type": "execute_result"
    }
   ],
   "source": [
    "# Read csv file into pandas dataframe\n",
    "transactions = pd.read_excel('one_transaction_at_a_time.xlsx')\n",
    "transactions"
   ]
  },
  {
   "cell_type": "code",
   "execution_count": 76,
   "metadata": {},
   "outputs": [
    {
     "data": {
      "text/html": [
       "<div>\n",
       "<style scoped>\n",
       "    .dataframe tbody tr th:only-of-type {\n",
       "        vertical-align: middle;\n",
       "    }\n",
       "\n",
       "    .dataframe tbody tr th {\n",
       "        vertical-align: top;\n",
       "    }\n",
       "\n",
       "    .dataframe thead th {\n",
       "        text-align: right;\n",
       "    }\n",
       "</style>\n",
       "<table border=\"1\" class=\"dataframe\">\n",
       "  <thead>\n",
       "    <tr style=\"text-align: right;\">\n",
       "      <th></th>\n",
       "      <th>Day</th>\n",
       "      <th>Month</th>\n",
       "      <th>Year</th>\n",
       "      <th>Amount</th>\n",
       "      <th>Five Guys</th>\n",
       "      <th>In N Out</th>\n",
       "      <th>Chick-Fil-A</th>\n",
       "      <th>Little Caesars</th>\n",
       "      <th>Cafe Rio</th>\n",
       "      <th>Taco Bell</th>\n",
       "      <th>...</th>\n",
       "      <th>Sonic</th>\n",
       "      <th>Rancheritos</th>\n",
       "      <th>Mesq Mex Grill</th>\n",
       "      <th>Flying Pie Pizzeria</th>\n",
       "      <th>Jimmy Johns</th>\n",
       "      <th>Pizza Hut</th>\n",
       "      <th>Rocky Mountain Power</th>\n",
       "      <th>QuestarGas</th>\n",
       "      <th>GrangerHunter</th>\n",
       "      <th>WVCC</th>\n",
       "    </tr>\n",
       "  </thead>\n",
       "  <tbody>\n",
       "    <tr>\n",
       "      <th>0</th>\n",
       "      <td>3</td>\n",
       "      <td>9</td>\n",
       "      <td>2021</td>\n",
       "      <td>-28.5</td>\n",
       "      <td>0</td>\n",
       "      <td>0</td>\n",
       "      <td>0</td>\n",
       "      <td>0</td>\n",
       "      <td>0</td>\n",
       "      <td>0</td>\n",
       "      <td>...</td>\n",
       "      <td>0</td>\n",
       "      <td>0</td>\n",
       "      <td>0</td>\n",
       "      <td>0</td>\n",
       "      <td>0</td>\n",
       "      <td>0</td>\n",
       "      <td>0</td>\n",
       "      <td>0</td>\n",
       "      <td>0</td>\n",
       "      <td>1</td>\n",
       "    </tr>\n",
       "  </tbody>\n",
       "</table>\n",
       "<p>1 rows × 26 columns</p>\n",
       "</div>"
      ],
      "text/plain": [
       "   Day  Month  Year  Amount  Five Guys  In N Out  Chick-Fil-A  Little Caesars  \\\n",
       "0    3      9  2021   -28.5          0         0            0               0   \n",
       "\n",
       "   Cafe Rio  Taco Bell  ...  Sonic  Rancheritos  Mesq Mex Grill  \\\n",
       "0         0          0  ...      0            0               0   \n",
       "\n",
       "   Flying Pie Pizzeria  Jimmy Johns  Pizza Hut  Rocky Mountain Power  \\\n",
       "0                    0            0          0                     0   \n",
       "\n",
       "   QuestarGas  GrangerHunter  WVCC  \n",
       "0           0              0     1  \n",
       "\n",
       "[1 rows x 26 columns]"
      ]
     },
     "execution_count": 76,
     "metadata": {},
     "output_type": "execute_result"
    }
   ],
   "source": [
    "# Separate Label from transaction\n",
    "X = transactions.drop('Categories', axis=1)\n",
    "y = transactions['Categories']\n",
    "X"
   ]
  },
  {
   "cell_type": "code",
   "execution_count": 77,
   "metadata": {},
   "outputs": [],
   "source": [
    "# Scale the data\n",
    "scaler = StandardScaler()\n",
    "# Fit only to the training data\n",
    "scaler.fit(X)\n",
    "StandardScaler(copy=True, with_mean=True, with_std=True)\n",
    "# Now apply the transformations to the data:\n",
    "X = scaler.transform(X)"
   ]
  },
  {
   "cell_type": "code",
   "execution_count": 80,
   "metadata": {},
   "outputs": [],
   "source": [
    "from my_nn import mlp"
   ]
  },
  {
   "cell_type": "code",
   "execution_count": 81,
   "metadata": {},
   "outputs": [
    {
     "data": {
      "text/plain": [
       "array([1])"
      ]
     },
     "execution_count": 81,
     "metadata": {},
     "output_type": "execute_result"
    }
   ],
   "source": [
    "prediction = mlp.predict(X)\n",
    "prediction"
   ]
  }
 ],
 "metadata": {
  "interpreter": {
   "hash": "aee8b7b246df8f9039afb4144a1f6fd8d2ca17a180786b69acc140d282b71a49"
  },
  "kernelspec": {
   "display_name": "Python 3.9.7 64-bit",
   "name": "python3"
  },
  "language_info": {
   "codemirror_mode": {
    "name": "ipython",
    "version": 3
   },
   "file_extension": ".py",
   "mimetype": "text/x-python",
   "name": "python",
   "nbconvert_exporter": "python",
   "pygments_lexer": "ipython3",
   "version": "3.9.7"
  },
  "orig_nbformat": 4
 },
 "nbformat": 4,
 "nbformat_minor": 2
}
