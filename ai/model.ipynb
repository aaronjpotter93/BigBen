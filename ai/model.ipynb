{
 "cells": [
  {
   "cell_type": "code",
   "execution_count": 2,
   "metadata": {},
   "outputs": [],
   "source": [
    "import numpy as np\n",
    "import matplotlib.pyplot as plot\n",
    "from matplotlib.pyplot import grid\n",
    "from matplotlib.pyplot import xlabel\n",
    "from matplotlib.pyplot import ylabel\n",
    "from matplotlib.pyplot import contour\n",
    "from scipy import optimize"
   ]
  },
  {
   "cell_type": "code",
   "execution_count": 3,
   "metadata": {},
   "outputs": [
    {
     "data": {
      "text/plain": [
       "array([1., 2., 1., 1., 1., 1., 1., 1., 1., 2., 1., 1., 1., 2., 1., 1., 1.,\n",
       "       1., 1., 2., 1., 1., 1., 1., 1., 1., 1., 2., 1., 1., 1., 1., 1., 1.,\n",
       "       1., 1., 2., 1., 1., 1., 2., 1., 1., 1., 1., 1., 1., 2., 1., 1., 1.,\n",
       "       2., 1., 1., 1., 1., 1., 2., 1., 1., 2., 1., 2., 1., 2., 2., 2., 1.,\n",
       "       1.])"
      ]
     },
     "execution_count": 3,
     "metadata": {},
     "output_type": "execute_result"
    }
   ],
   "source": [
    "# X = (hours sleeping, hours studying), y = Score on test\n",
    "# X = np.array(([3,5], [5,1], [10,2]), dtype=float)\n",
    "X = np.genfromtxt(\"FoodPowerTransactions.csv\", delimiter=\",\", skip_header=1)\n",
    "y = np.genfromtxt(\"Labels.csv\", delimiter=\",\", skip_header=1)\n",
    "y"
   ]
  },
  {
   "cell_type": "code",
   "execution_count": 4,
   "metadata": {},
   "outputs": [
    {
     "data": {
      "text/plain": [
       "array([[ 22.76,   0.  ,   1.  ,   0.  ,   3.  ],\n",
       "       [212.73,   0.  ,   0.  ,   1.  ,  31.  ],\n",
       "       [ 71.  ,   0.  ,   1.  ,   0.  ,  31.  ],\n",
       "       [ 25.19,   1.  ,   0.  ,   0.  ,  30.  ],\n",
       "       [ 86.71,   1.  ,   0.  ,   0.  ,  28.  ],\n",
       "       [ 33.51,   1.  ,   0.  ,   0.  ,  23.  ],\n",
       "       [ 12.11,   0.  ,   1.  ,   0.  ,  14.  ],\n",
       "       [  4.87,   0.  ,   1.  ,   0.  ,  12.  ],\n",
       "       [  9.74,   0.  ,   1.  ,   0.  ,   6.  ],\n",
       "       [ 67.86,   0.  ,   0.  ,   1.  ,  19.  ],\n",
       "       [  9.89,   1.  ,   0.  ,   0.  ,  19.  ],\n",
       "       [  6.7 ,   1.  ,   0.  ,   0.  ,   6.  ],\n",
       "       [ 28.64,   1.  ,   0.  ,   0.  ,  21.  ],\n",
       "       [ 52.07,   0.  ,   0.  ,   1.  ,  15.  ],\n",
       "       [ 15.52,   0.  ,   1.  ,   0.  ,  11.  ],\n",
       "       [  4.23,   0.  ,   1.  ,   0.  ,  11.  ],\n",
       "       [ 34.02,   0.  ,   1.  ,   0.  ,   1.  ],\n",
       "       [ 26.84,   1.  ,   0.  ,   0.  ,  28.  ],\n",
       "       [ 27.72,   0.  ,   1.  ,   0.  ,  20.  ],\n",
       "       [ 57.37,   0.  ,   0.  ,   1.  ,   4.  ],\n",
       "       [ 45.51,   1.  ,   0.  ,   0.  ,   3.  ],\n",
       "       [ 33.62,   1.  ,   0.  ,   0.  ,  28.  ],\n",
       "       [ 26.8 ,   0.  ,   1.  ,   0.  ,  26.  ],\n",
       "       [ 52.31,   1.  ,   0.  ,   0.  ,  20.  ],\n",
       "       [ 18.87,   0.  ,   1.  ,   0.  ,  17.  ],\n",
       "       [ 20.32,   1.  ,   0.  ,   0.  ,  14.  ],\n",
       "       [ 26.98,   0.  ,   1.  ,   0.  ,  14.  ],\n",
       "       [ 53.29,   0.  ,   0.  ,   1.  ,  13.  ],\n",
       "       [ 18.6 ,   0.  ,   1.  ,   0.  ,  12.  ],\n",
       "       [ 23.27,   1.  ,   0.  ,   0.  ,  12.  ],\n",
       "       [ 19.22,   0.  ,   1.  ,   0.  ,   9.  ],\n",
       "       [  9.3 ,   0.  ,   1.  ,   0.  ,   5.  ],\n",
       "       [  9.56,   0.  ,   1.  ,   0.  ,   2.  ],\n",
       "       [ 21.7 ,   0.  ,   1.  ,   0.  ,  31.  ],\n",
       "       [ 25.31,   0.  ,   1.  ,   0.  ,  29.  ],\n",
       "       [ 68.55,   0.  ,   1.  ,   0.  ,  27.  ],\n",
       "       [ 46.  ,   0.  ,   0.  ,   1.  ,  23.  ],\n",
       "       [ 32.89,   0.  ,   1.  ,   0.  ,  22.  ],\n",
       "       [ 18.06,   1.  ,   0.  ,   0.  ,  10.  ],\n",
       "       [ 25.83,   1.  ,   0.  ,   0.  ,   1.  ],\n",
       "       [ 56.31,   0.  ,   0.  ,   1.  ,  23.  ],\n",
       "       [ 25.43,   1.  ,   0.  ,   0.  ,  23.  ],\n",
       "       [ 11.09,   0.  ,   1.  ,   0.  ,  16.  ],\n",
       "       [  5.29,   0.  ,   1.  ,   0.  ,  12.  ],\n",
       "       [ 21.73,   1.  ,   0.  ,   0.  ,  11.  ],\n",
       "       [ 28.67,   1.  ,   0.  ,   0.  ,  27.  ],\n",
       "       [ 25.05,   0.  ,   1.  ,   0.  ,  25.  ],\n",
       "       [ 78.93,   0.  ,   0.  ,   1.  ,  19.  ],\n",
       "       [ 27.67,   1.  ,   0.  ,   0.  ,  19.  ],\n",
       "       [ 25.41,   0.  ,   1.  ,   0.  ,  24.  ],\n",
       "       [ 30.26,   1.  ,   0.  ,   0.  ,  22.  ],\n",
       "       [110.53,   0.  ,   0.  ,   1.  ,  30.  ],\n",
       "       [ 20.64,   1.  ,   0.  ,   0.  ,  28.  ],\n",
       "       [ 22.91,   1.  ,   0.  ,   0.  ,  25.  ],\n",
       "       [ 16.09,   0.  ,   1.  ,   0.  ,  25.  ],\n",
       "       [ 21.51,   1.  ,   0.  ,   0.  ,  23.  ],\n",
       "       [ 21.51,   1.  ,   0.  ,   0.  ,  19.  ],\n",
       "       [179.  ,   0.  ,   0.  ,   1.  ,  27.  ],\n",
       "       [ 19.6 ,   1.  ,   0.  ,   0.  ,  14.  ],\n",
       "       [ 16.2 ,   0.  ,   1.  ,   0.  ,  14.  ],\n",
       "       [ 94.5 ,   0.  ,   0.  ,   1.  ,  19.  ],\n",
       "       [ 22.83,   1.  ,   0.  ,   0.  ,  17.  ],\n",
       "       [ 67.98,   0.  ,   0.  ,   1.  ,  15.  ],\n",
       "       [ 37.9 ,   1.  ,   0.  ,   0.  ,   6.  ],\n",
       "       [ 76.66,   0.  ,   0.  ,   1.  ,  19.  ],\n",
       "       [ 58.24,   0.  ,   0.  ,   1.  ,  13.  ],\n",
       "       [ 56.47,   0.  ,   0.  ,   1.  ,  16.  ],\n",
       "       [  7.24,   0.  ,   1.  ,   0.  ,  16.  ],\n",
       "       [  7.37,   0.  ,   1.  ,   0.  ,   2.  ]])"
      ]
     },
     "execution_count": 4,
     "metadata": {},
     "output_type": "execute_result"
    }
   ],
   "source": [
    "X"
   ]
  },
  {
   "cell_type": "code",
   "execution_count": 5,
   "metadata": {},
   "outputs": [
    {
     "data": {
      "text/plain": [
       "array([1., 2., 1., 1., 1., 1., 1., 1., 1., 2., 1., 1., 1., 2., 1., 1., 1.,\n",
       "       1., 1., 2., 1., 1., 1., 1., 1., 1., 1., 2., 1., 1., 1., 1., 1., 1.,\n",
       "       1., 1., 2., 1., 1., 1., 2., 1., 1., 1., 1., 1., 1., 2., 1., 1., 1.,\n",
       "       2., 1., 1., 1., 1., 1., 2., 1., 1., 2., 1., 2., 1., 2., 2., 2., 1.,\n",
       "       1.])"
      ]
     },
     "execution_count": 5,
     "metadata": {},
     "output_type": "execute_result"
    }
   ],
   "source": [
    "y"
   ]
  },
  {
   "cell_type": "code",
   "execution_count": 6,
   "metadata": {},
   "outputs": [],
   "source": [
    "X = X/np.amax(X, axis=0)\n",
    "# y = y/100 #Max test score is 100"
   ]
  },
  {
   "cell_type": "code",
   "execution_count": 7,
   "metadata": {},
   "outputs": [
    {
     "data": {
      "text/plain": [
       "array([[0.10699008, 0.        , 1.        , 0.        , 0.09677419],\n",
       "       [1.        , 0.        , 0.        , 1.        , 1.        ],\n",
       "       [0.3337564 , 0.        , 1.        , 0.        , 1.        ],\n",
       "       [0.11841301, 1.        , 0.        , 0.        , 0.96774194],\n",
       "       [0.40760589, 1.        , 0.        , 0.        , 0.90322581],\n",
       "       [0.15752362, 1.        , 0.        , 0.        , 0.74193548],\n",
       "       [0.05692662, 0.        , 1.        , 0.        , 0.4516129 ],\n",
       "       [0.02289287, 0.        , 1.        , 0.        , 0.38709677],\n",
       "       [0.04578574, 0.        , 1.        , 0.        , 0.19354839],\n",
       "       [0.31899591, 0.        , 0.        , 1.        , 0.61290323],\n",
       "       [0.04649086, 1.        , 0.        , 0.        , 0.61290323],\n",
       "       [0.03149532, 1.        , 0.        , 0.        , 0.19354839],\n",
       "       [0.13463075, 1.        , 0.        , 0.        , 0.67741935],\n",
       "       [0.24477037, 0.        , 0.        , 1.        , 0.48387097],\n",
       "       [0.07295633, 0.        , 1.        , 0.        , 0.35483871],\n",
       "       [0.01988436, 0.        , 1.        , 0.        , 0.35483871],\n",
       "       [0.15992103, 0.        , 1.        , 0.        , 0.03225806],\n",
       "       [0.12616932, 1.        , 0.        , 0.        , 0.90322581],\n",
       "       [0.13030602, 0.        , 1.        , 0.        , 0.64516129],\n",
       "       [0.26968458, 0.        , 0.        , 1.        , 0.12903226],\n",
       "       [0.21393315, 1.        , 0.        , 0.        , 0.09677419],\n",
       "       [0.15804071, 1.        , 0.        , 0.        , 0.90322581],\n",
       "       [0.12598129, 0.        , 1.        , 0.        , 0.83870968],\n",
       "       [0.24589856, 1.        , 0.        , 0.        , 0.64516129],\n",
       "       [0.08870399, 0.        , 1.        , 0.        , 0.5483871 ],\n",
       "       [0.09552014, 1.        , 0.        , 0.        , 0.4516129 ],\n",
       "       [0.12682743, 0.        , 1.        , 0.        , 0.4516129 ],\n",
       "       [0.25050534, 0.        , 0.        , 1.        , 0.41935484],\n",
       "       [0.08743478, 0.        , 1.        , 0.        , 0.38709677],\n",
       "       [0.10938749, 1.        , 0.        , 0.        , 0.38709677],\n",
       "       [0.09034927, 0.        , 1.        , 0.        , 0.29032258],\n",
       "       [0.04371739, 0.        , 1.        , 0.        , 0.16129032],\n",
       "       [0.04493959, 0.        , 1.        , 0.        , 0.06451613],\n",
       "       [0.10200724, 0.        , 1.        , 0.        , 1.        ],\n",
       "       [0.11897711, 0.        , 1.        , 0.        , 0.93548387],\n",
       "       [0.32223946, 0.        , 1.        , 0.        , 0.87096774],\n",
       "       [0.21623654, 0.        , 0.        , 1.        , 0.74193548],\n",
       "       [0.15460913, 0.        , 1.        , 0.        , 0.70967742],\n",
       "       [0.08489635, 1.        , 0.        , 0.        , 0.32258065],\n",
       "       [0.12142152, 1.        , 0.        , 0.        , 0.03225806],\n",
       "       [0.26470173, 0.        , 0.        , 1.        , 0.74193548],\n",
       "       [0.1195412 , 1.        , 0.        , 0.        , 0.74193548],\n",
       "       [0.05213181, 0.        , 1.        , 0.        , 0.51612903],\n",
       "       [0.0248672 , 0.        , 1.        , 0.        , 0.38709677],\n",
       "       [0.10214826, 1.        , 0.        , 0.        , 0.35483871],\n",
       "       [0.13477178, 1.        , 0.        , 0.        , 0.87096774],\n",
       "       [0.1177549 , 0.        , 1.        , 0.        , 0.80645161],\n",
       "       [0.3710337 , 0.        , 0.        , 1.        , 0.61290323],\n",
       "       [0.13007098, 1.        , 0.        , 0.        , 0.61290323],\n",
       "       [0.11944719, 0.        , 1.        , 0.        , 0.77419355],\n",
       "       [0.14224604, 1.        , 0.        , 0.        , 0.70967742],\n",
       "       [0.51957881, 0.        , 0.        , 1.        , 0.96774194],\n",
       "       [0.0970244 , 1.        , 0.        , 0.        , 0.90322581],\n",
       "       [0.1076952 , 1.        , 0.        , 0.        , 0.80645161],\n",
       "       [0.07563578, 0.        , 1.        , 0.        , 0.80645161],\n",
       "       [0.10111409, 1.        , 0.        , 0.        , 0.74193548],\n",
       "       [0.10111409, 1.        , 0.        , 0.        , 0.61290323],\n",
       "       [0.8414422 , 0.        , 0.        , 1.        , 0.87096774],\n",
       "       [0.09213557, 1.        , 0.        , 0.        , 0.4516129 ],\n",
       "       [0.07615287, 0.        , 1.        , 0.        , 0.4516129 ],\n",
       "       [0.44422507, 0.        , 0.        , 1.        , 0.61290323],\n",
       "       [0.10731914, 1.        , 0.        , 0.        , 0.5483871 ],\n",
       "       [0.31956001, 0.        , 0.        , 1.        , 0.48387097],\n",
       "       [0.17816011, 1.        , 0.        , 0.        , 0.19354839],\n",
       "       [0.3603629 , 0.        , 0.        , 1.        , 0.61290323],\n",
       "       [0.27377427, 0.        , 0.        , 1.        , 0.41935484],\n",
       "       [0.26545386, 0.        , 0.        , 1.        , 0.51612903],\n",
       "       [0.03403375, 0.        , 1.        , 0.        , 0.51612903],\n",
       "       [0.03464485, 0.        , 1.        , 0.        , 0.06451613]])"
      ]
     },
     "execution_count": 7,
     "metadata": {},
     "output_type": "execute_result"
    }
   ],
   "source": [
    "X"
   ]
  },
  {
   "cell_type": "code",
   "execution_count": 8,
   "metadata": {},
   "outputs": [
    {
     "data": {
      "text/plain": [
       "array([[1.],\n",
       "       [2.],\n",
       "       [1.],\n",
       "       [1.],\n",
       "       [1.],\n",
       "       [1.],\n",
       "       [1.],\n",
       "       [1.],\n",
       "       [1.],\n",
       "       [2.],\n",
       "       [1.],\n",
       "       [1.],\n",
       "       [1.],\n",
       "       [2.],\n",
       "       [1.],\n",
       "       [1.],\n",
       "       [1.],\n",
       "       [1.],\n",
       "       [1.],\n",
       "       [2.],\n",
       "       [1.],\n",
       "       [1.],\n",
       "       [1.],\n",
       "       [1.],\n",
       "       [1.],\n",
       "       [1.],\n",
       "       [1.],\n",
       "       [2.],\n",
       "       [1.],\n",
       "       [1.],\n",
       "       [1.],\n",
       "       [1.],\n",
       "       [1.],\n",
       "       [1.],\n",
       "       [1.],\n",
       "       [1.],\n",
       "       [2.],\n",
       "       [1.],\n",
       "       [1.],\n",
       "       [1.],\n",
       "       [2.],\n",
       "       [1.],\n",
       "       [1.],\n",
       "       [1.],\n",
       "       [1.],\n",
       "       [1.],\n",
       "       [1.],\n",
       "       [2.],\n",
       "       [1.],\n",
       "       [1.],\n",
       "       [1.],\n",
       "       [2.],\n",
       "       [1.],\n",
       "       [1.],\n",
       "       [1.],\n",
       "       [1.],\n",
       "       [1.],\n",
       "       [2.],\n",
       "       [1.],\n",
       "       [1.],\n",
       "       [2.],\n",
       "       [1.],\n",
       "       [2.],\n",
       "       [1.],\n",
       "       [2.],\n",
       "       [2.],\n",
       "       [2.],\n",
       "       [1.],\n",
       "       [1.]])"
      ]
     },
     "execution_count": 8,
     "metadata": {},
     "output_type": "execute_result"
    }
   ],
   "source": [
    "y = np.expand_dims(y, axis=-1)\n",
    "y"
   ]
  },
  {
   "cell_type": "code",
   "execution_count": 9,
   "metadata": {},
   "outputs": [],
   "source": [
    "class Neural_Network(object):\n",
    "    def __init__(self):        \n",
    "        #Define Hyperparameters\n",
    "        self.inputLayerSize = 5\n",
    "        self.outputLayerSize = 2\n",
    "        self.hiddenLayerSize = 5\n",
    "        \n",
    "        #Weights (parameters)\n",
    "        self.W1 = np.random.randn(self.inputLayerSize, self.hiddenLayerSize)\n",
    "        self.W2 = np.random.randn(self.hiddenLayerSize, self.outputLayerSize)\n",
    "        \n",
    "    def forward(self, X):\n",
    "        #Propagate inputs though network\n",
    "        self.z2 = np.dot(X, self.W1)\n",
    "        self.a2 = self.sigmoid(self.z2)\n",
    "        self.z3 = np.dot(self.a2, self.W2)\n",
    "        yHat = self.sigmoid(self.z3) \n",
    "        return yHat\n",
    "\n",
    "    def sigmoid(self, z):\n",
    "        #Apply sigmoid activation function to scalar, vector, or matrix\n",
    "        return 1/(1+np.exp(-z))\n",
    "\n",
    "    def sigmoidPrime(self,z):\n",
    "        #Gradient of sigmoid\n",
    "        return np.exp(-z)/((1+np.exp(-z))**2)\n",
    "    \n",
    "    def costFunction(self, X, y):\n",
    "        #Compute cost for given X,y, use weights already stored in class.\n",
    "        self.yHat = self.forward(X)\n",
    "        J = 0.5*sum((y-self.yHat)**2)\n",
    "        return J\n",
    "        \n",
    "    def costFunctionPrime(self, X, y):\n",
    "        #Compute derivative with respect to W and W2 for a given X and y:\n",
    "        self.yHat = self.forward(X)\n",
    "        \n",
    "        delta3 = np.multiply(-(y-self.yHat), self.sigmoidPrime(self.z3))\n",
    "        dJdW2 = np.dot(self.a2.T, delta3)\n",
    "        \n",
    "        delta2 = np.dot(delta3, self.W2.T)*self.sigmoidPrime(self.z2)\n",
    "        dJdW1 = np.dot(X.T, delta2)  \n",
    "        \n",
    "        return dJdW1, dJdW2\n",
    "    \n",
    "    #Helper Functions for interacting with other classes:\n",
    "    def getParams(self):\n",
    "        #Get W1 and W2 unrolled into vector:\n",
    "        params = np.concatenate((self.W1.ravel(), self.W2.ravel()))\n",
    "        return params\n",
    "    \n",
    "    def setParams(self, params):\n",
    "        #Set W1 and W2 using single paramater vector.\n",
    "        W1_start = 0\n",
    "        W1_end = self.hiddenLayerSize * self.inputLayerSize\n",
    "        self.W1 = np.reshape(params[W1_start:W1_end], (self.inputLayerSize , self.hiddenLayerSize))\n",
    "        W2_end = W1_end + self.hiddenLayerSize*self.outputLayerSize\n",
    "        self.W2 = np.reshape(params[W1_end:W2_end], (self.hiddenLayerSize, self.outputLayerSize))\n",
    "        \n",
    "    def computeGradients(self, X, y):\n",
    "        dJdW1, dJdW2 = self.costFunctionPrime(X, y)\n",
    "        return np.concatenate((dJdW1.ravel(), dJdW2.ravel()))"
   ]
  },
  {
   "cell_type": "code",
   "execution_count": 10,
   "metadata": {},
   "outputs": [],
   "source": [
    "# testInput = np.arange(-6,6,0.01)\n",
    "# plot.plot(testInput, sigmoid(testInput), linewidth=2)\n",
    "# plot.grid(1)"
   ]
  },
  {
   "cell_type": "code",
   "execution_count": 11,
   "metadata": {},
   "outputs": [],
   "source": [
    "# Create Neural Network Object\n",
    "NN = Neural_Network()\n"
   ]
  },
  {
   "cell_type": "code",
   "execution_count": 12,
   "metadata": {},
   "outputs": [],
   "source": [
    "yHat = NN.forward(X)"
   ]
  },
  {
   "cell_type": "code",
   "execution_count": 13,
   "metadata": {},
   "outputs": [
    {
     "data": {
      "text/plain": [
       "array([[0.76949323, 0.32533925],\n",
       "       [0.57819134, 0.35089825],\n",
       "       [0.68453216, 0.40407672],\n",
       "       [0.63683623, 0.34678562],\n",
       "       [0.66452917, 0.35003745],\n",
       "       [0.65682671, 0.32745388],\n",
       "       [0.72480022, 0.34486277],\n",
       "       [0.72927106, 0.33786926],\n",
       "       [0.75433118, 0.32740378],\n",
       "       [0.55692592, 0.30754176],\n",
       "       [0.66016439, 0.31258215],\n",
       "       [0.69125925, 0.27307303],\n",
       "       [0.66041382, 0.32092208],\n",
       "       [0.56017571, 0.29527852],\n",
       "       [0.73817744, 0.33998219],\n",
       "       [0.73293573, 0.33559035],\n",
       "       [0.77915654, 0.32413518],\n",
       "       [0.64222666, 0.34119431],\n",
       "       [0.70810662, 0.36366383],\n",
       "       [0.59788792, 0.27275754],\n",
       "       [0.71408495, 0.27226447],\n",
       "       [0.64408037, 0.3419276 ],\n",
       "       [0.68215918, 0.37535329],\n",
       "       [0.67151602, 0.32174077],\n",
       "       [0.71597761, 0.3537965 ],\n",
       "       [0.67557849, 0.29891387],\n",
       "       [0.73171306, 0.35072136],\n",
       "       [0.56708445, 0.29122829],\n",
       "       [0.73571059, 0.34326074],\n",
       "       [0.68166182, 0.29345694],\n",
       "       [0.74726819, 0.3371269 ],\n",
       "       [0.75774157, 0.32516904],\n",
       "       [0.7682527 , 0.31900706],\n",
       "       [0.65690797, 0.38253149],\n",
       "       [0.66808869, 0.38045868],\n",
       "       [0.69919061, 0.39480544],\n",
       "       [0.53262359, 0.31131097],\n",
       "       [0.70246247, 0.36995587],\n",
       "       [0.68497784, 0.286694  ],\n",
       "       [0.71100363, 0.26248457],\n",
       "       [0.53862874, 0.3135385 ],\n",
       "       [0.65438744, 0.32641322],\n",
       "       [0.7161371 , 0.34852432],\n",
       "       [0.72947697, 0.33803779],\n",
       "       [0.68368801, 0.29025271],\n",
       "       [0.64522213, 0.33849634],\n",
       "       [0.68550552, 0.3726113 ],\n",
       "       [0.56290359, 0.30998127],\n",
       "       [0.66521302, 0.31487245],\n",
       "       [0.69002523, 0.37079023],\n",
       "       [0.65836566, 0.3240868 ],\n",
       "       [0.54943447, 0.3387292 ],\n",
       "       [0.64070024, 0.34058731],\n",
       "       [0.64868851, 0.3320219 ],\n",
       "       [0.68032775, 0.3686013 ],\n",
       "       [0.65330052, 0.32594674],\n",
       "       [0.66331816, 0.31401946],\n",
       "       [0.58018225, 0.34137944],\n",
       "       [0.67534716, 0.29880404],\n",
       "       [0.72677705, 0.34650607],\n",
       "       [0.57069419, 0.31323653],\n",
       "       [0.66877121, 0.30823147],\n",
       "       [0.56892587, 0.2990119 ],\n",
       "       [0.70291633, 0.27892704],\n",
       "       [0.56170396, 0.30948808],\n",
       "       [0.56980728, 0.29241744],\n",
       "       [0.55958077, 0.29848555],\n",
       "       [0.71413657, 0.3469119 ],\n",
       "       [0.76744332, 0.31828988]])"
      ]
     },
     "execution_count": 13,
     "metadata": {},
     "output_type": "execute_result"
    }
   ],
   "source": [
    "yHat"
   ]
  },
  {
   "cell_type": "code",
   "execution_count": 14,
   "metadata": {},
   "outputs": [
    {
     "data": {
      "text/plain": [
       "array([[1.],\n",
       "       [2.],\n",
       "       [1.],\n",
       "       [1.],\n",
       "       [1.],\n",
       "       [1.],\n",
       "       [1.],\n",
       "       [1.],\n",
       "       [1.],\n",
       "       [2.],\n",
       "       [1.],\n",
       "       [1.],\n",
       "       [1.],\n",
       "       [2.],\n",
       "       [1.],\n",
       "       [1.],\n",
       "       [1.],\n",
       "       [1.],\n",
       "       [1.],\n",
       "       [2.],\n",
       "       [1.],\n",
       "       [1.],\n",
       "       [1.],\n",
       "       [1.],\n",
       "       [1.],\n",
       "       [1.],\n",
       "       [1.],\n",
       "       [2.],\n",
       "       [1.],\n",
       "       [1.],\n",
       "       [1.],\n",
       "       [1.],\n",
       "       [1.],\n",
       "       [1.],\n",
       "       [1.],\n",
       "       [1.],\n",
       "       [2.],\n",
       "       [1.],\n",
       "       [1.],\n",
       "       [1.],\n",
       "       [2.],\n",
       "       [1.],\n",
       "       [1.],\n",
       "       [1.],\n",
       "       [1.],\n",
       "       [1.],\n",
       "       [1.],\n",
       "       [2.],\n",
       "       [1.],\n",
       "       [1.],\n",
       "       [1.],\n",
       "       [2.],\n",
       "       [1.],\n",
       "       [1.],\n",
       "       [1.],\n",
       "       [1.],\n",
       "       [1.],\n",
       "       [2.],\n",
       "       [1.],\n",
       "       [1.],\n",
       "       [2.],\n",
       "       [1.],\n",
       "       [2.],\n",
       "       [1.],\n",
       "       [2.],\n",
       "       [2.],\n",
       "       [2.],\n",
       "       [1.],\n",
       "       [1.]])"
      ]
     },
     "execution_count": 14,
     "metadata": {},
     "output_type": "execute_result"
    }
   ],
   "source": [
    "y"
   ]
  },
  {
   "cell_type": "code",
   "execution_count": 15,
   "metadata": {},
   "outputs": [],
   "source": [
    "class trainer(object):\n",
    "    def __init__(self, N):\n",
    "        #Make Local reference to network:\n",
    "        self.N = N\n",
    "        \n",
    "    def callbackF(self, params):\n",
    "        self.N.setParams(params)\n",
    "        self.J.append(self.N.costFunction(self.X, self.y))   \n",
    "        \n",
    "    def costFunctionWrapper(self, params, X, y):\n",
    "        \n",
    "        self.N.setParams(params)\n",
    "        cost = self.N.costFunction(X, y)\n",
    "        grad = self.N.computeGradients(X,y)\n",
    "        \n",
    "        return cost, grad\n",
    "        \n",
    "    def train(self, X, y):\n",
    "        #Make an internal variable for the callback function:\n",
    "        self.X = X\n",
    "        self.y = y\n",
    "\n",
    "        #Make empty list to store costs:\n",
    "        self.J = []\n",
    "        \n",
    "        params0 = self.N.getParams()\n",
    "\n",
    "        options = {'maxiter': 200, 'disp' : True}\n",
    "        _res = optimize.minimize(self.costFunctionWrapper, params0, jac=True, method='BFGS', \\\n",
    "                                 args=(X, y), options=options, callback=self.callbackF)\n",
    "\n",
    "        self.N.setParams(_res.x)\n",
    "        self.optimizationResults = _res"
   ]
  },
  {
   "cell_type": "code",
   "execution_count": 16,
   "metadata": {},
   "outputs": [
    {
     "ename": "ValueError",
     "evalue": "The user-provided objective function must return a scalar value.",
     "output_type": "error",
     "traceback": [
      "\u001b[0;31m---------------------------------------------------------------------------\u001b[0m",
      "\u001b[0;31mValueError\u001b[0m                                Traceback (most recent call last)",
      "\u001b[0;32m/usr/local/lib/python3.9/site-packages/scipy/optimize/optimize.py\u001b[0m in \u001b[0;36m_minimize_bfgs\u001b[0;34m(fun, x0, args, jac, callback, gtol, norm, eps, maxiter, disp, return_all, finite_diff_rel_step, **unknown_options)\u001b[0m\n\u001b[1;32m   1145\u001b[0m         \u001b[0;32mtry\u001b[0m\u001b[0;34m:\u001b[0m\u001b[0;34m\u001b[0m\u001b[0;34m\u001b[0m\u001b[0m\n\u001b[0;32m-> 1146\u001b[0;31m             \u001b[0mold_fval\u001b[0m \u001b[0;34m=\u001b[0m \u001b[0mold_fval\u001b[0m\u001b[0;34m.\u001b[0m\u001b[0mitem\u001b[0m\u001b[0;34m(\u001b[0m\u001b[0;34m)\u001b[0m\u001b[0;34m\u001b[0m\u001b[0;34m\u001b[0m\u001b[0m\n\u001b[0m\u001b[1;32m   1147\u001b[0m         \u001b[0;32mexcept\u001b[0m \u001b[0;34m(\u001b[0m\u001b[0mValueError\u001b[0m\u001b[0;34m,\u001b[0m \u001b[0mAttributeError\u001b[0m\u001b[0;34m)\u001b[0m \u001b[0;32mas\u001b[0m \u001b[0me\u001b[0m\u001b[0;34m:\u001b[0m\u001b[0;34m\u001b[0m\u001b[0;34m\u001b[0m\u001b[0m\n",
      "\u001b[0;31mValueError\u001b[0m: can only convert an array of size 1 to a Python scalar",
      "\nThe above exception was the direct cause of the following exception:\n",
      "\u001b[0;31mValueError\u001b[0m                                Traceback (most recent call last)",
      "\u001b[0;32m<ipython-input-16-53ba9e2e053e>\u001b[0m in \u001b[0;36m<module>\u001b[0;34m\u001b[0m\n\u001b[1;32m      2\u001b[0m \u001b[0;34m\u001b[0m\u001b[0m\n\u001b[1;32m      3\u001b[0m \u001b[0mT\u001b[0m \u001b[0;34m=\u001b[0m \u001b[0mtrainer\u001b[0m\u001b[0;34m(\u001b[0m\u001b[0mNN\u001b[0m\u001b[0;34m)\u001b[0m\u001b[0;34m\u001b[0m\u001b[0;34m\u001b[0m\u001b[0m\n\u001b[0;32m----> 4\u001b[0;31m \u001b[0mT\u001b[0m\u001b[0;34m.\u001b[0m\u001b[0mtrain\u001b[0m\u001b[0;34m(\u001b[0m\u001b[0mX\u001b[0m\u001b[0;34m,\u001b[0m\u001b[0my\u001b[0m\u001b[0;34m)\u001b[0m\u001b[0;34m\u001b[0m\u001b[0;34m\u001b[0m\u001b[0m\n\u001b[0m",
      "\u001b[0;32m<ipython-input-15-4fcea0cb7a0b>\u001b[0m in \u001b[0;36mtrain\u001b[0;34m(self, X, y)\u001b[0m\n\u001b[1;32m     27\u001b[0m \u001b[0;34m\u001b[0m\u001b[0m\n\u001b[1;32m     28\u001b[0m         \u001b[0moptions\u001b[0m \u001b[0;34m=\u001b[0m \u001b[0;34m{\u001b[0m\u001b[0;34m'maxiter'\u001b[0m\u001b[0;34m:\u001b[0m \u001b[0;36m200\u001b[0m\u001b[0;34m,\u001b[0m \u001b[0;34m'disp'\u001b[0m \u001b[0;34m:\u001b[0m \u001b[0;32mTrue\u001b[0m\u001b[0;34m}\u001b[0m\u001b[0;34m\u001b[0m\u001b[0;34m\u001b[0m\u001b[0m\n\u001b[0;32m---> 29\u001b[0;31m         _res = optimize.minimize(self.costFunctionWrapper, params0, jac=True, method='BFGS', \\\n\u001b[0m\u001b[1;32m     30\u001b[0m                                  args=(X, y), options=options, callback=self.callbackF)\n\u001b[1;32m     31\u001b[0m \u001b[0;34m\u001b[0m\u001b[0m\n",
      "\u001b[0;32m/usr/local/lib/python3.9/site-packages/scipy/optimize/_minimize.py\u001b[0m in \u001b[0;36mminimize\u001b[0;34m(fun, x0, args, method, jac, hess, hessp, bounds, constraints, tol, callback, options)\u001b[0m\n\u001b[1;32m    612\u001b[0m         \u001b[0;32mreturn\u001b[0m \u001b[0m_minimize_cg\u001b[0m\u001b[0;34m(\u001b[0m\u001b[0mfun\u001b[0m\u001b[0;34m,\u001b[0m \u001b[0mx0\u001b[0m\u001b[0;34m,\u001b[0m \u001b[0margs\u001b[0m\u001b[0;34m,\u001b[0m \u001b[0mjac\u001b[0m\u001b[0;34m,\u001b[0m \u001b[0mcallback\u001b[0m\u001b[0;34m,\u001b[0m \u001b[0;34m**\u001b[0m\u001b[0moptions\u001b[0m\u001b[0;34m)\u001b[0m\u001b[0;34m\u001b[0m\u001b[0;34m\u001b[0m\u001b[0m\n\u001b[1;32m    613\u001b[0m     \u001b[0;32melif\u001b[0m \u001b[0mmeth\u001b[0m \u001b[0;34m==\u001b[0m \u001b[0;34m'bfgs'\u001b[0m\u001b[0;34m:\u001b[0m\u001b[0;34m\u001b[0m\u001b[0;34m\u001b[0m\u001b[0m\n\u001b[0;32m--> 614\u001b[0;31m         \u001b[0;32mreturn\u001b[0m \u001b[0m_minimize_bfgs\u001b[0m\u001b[0;34m(\u001b[0m\u001b[0mfun\u001b[0m\u001b[0;34m,\u001b[0m \u001b[0mx0\u001b[0m\u001b[0;34m,\u001b[0m \u001b[0margs\u001b[0m\u001b[0;34m,\u001b[0m \u001b[0mjac\u001b[0m\u001b[0;34m,\u001b[0m \u001b[0mcallback\u001b[0m\u001b[0;34m,\u001b[0m \u001b[0;34m**\u001b[0m\u001b[0moptions\u001b[0m\u001b[0;34m)\u001b[0m\u001b[0;34m\u001b[0m\u001b[0;34m\u001b[0m\u001b[0m\n\u001b[0m\u001b[1;32m    615\u001b[0m     \u001b[0;32melif\u001b[0m \u001b[0mmeth\u001b[0m \u001b[0;34m==\u001b[0m \u001b[0;34m'newton-cg'\u001b[0m\u001b[0;34m:\u001b[0m\u001b[0;34m\u001b[0m\u001b[0;34m\u001b[0m\u001b[0m\n\u001b[1;32m    616\u001b[0m         return _minimize_newtoncg(fun, x0, args, jac, hess, hessp, callback,\n",
      "\u001b[0;32m/usr/local/lib/python3.9/site-packages/scipy/optimize/optimize.py\u001b[0m in \u001b[0;36m_minimize_bfgs\u001b[0;34m(fun, x0, args, jac, callback, gtol, norm, eps, maxiter, disp, return_all, finite_diff_rel_step, **unknown_options)\u001b[0m\n\u001b[1;32m   1146\u001b[0m             \u001b[0mold_fval\u001b[0m \u001b[0;34m=\u001b[0m \u001b[0mold_fval\u001b[0m\u001b[0;34m.\u001b[0m\u001b[0mitem\u001b[0m\u001b[0;34m(\u001b[0m\u001b[0;34m)\u001b[0m\u001b[0;34m\u001b[0m\u001b[0;34m\u001b[0m\u001b[0m\n\u001b[1;32m   1147\u001b[0m         \u001b[0;32mexcept\u001b[0m \u001b[0;34m(\u001b[0m\u001b[0mValueError\u001b[0m\u001b[0;34m,\u001b[0m \u001b[0mAttributeError\u001b[0m\u001b[0;34m)\u001b[0m \u001b[0;32mas\u001b[0m \u001b[0me\u001b[0m\u001b[0;34m:\u001b[0m\u001b[0;34m\u001b[0m\u001b[0;34m\u001b[0m\u001b[0m\n\u001b[0;32m-> 1148\u001b[0;31m             raise ValueError(\"The user-provided \"\n\u001b[0m\u001b[1;32m   1149\u001b[0m                              \u001b[0;34m\"objective function must \"\u001b[0m\u001b[0;34m\u001b[0m\u001b[0;34m\u001b[0m\u001b[0m\n\u001b[1;32m   1150\u001b[0m                              \"return a scalar value.\") from e\n",
      "\u001b[0;31mValueError\u001b[0m: The user-provided objective function must return a scalar value."
     ]
    }
   ],
   "source": [
    "# Train neural network (NN)\n",
    "\n",
    "T = trainer(NN)\n",
    "T.train(X,y)"
   ]
  },
  {
   "cell_type": "code",
   "execution_count": null,
   "metadata": {},
   "outputs": [
    {
     "data": {
      "text/plain": [
       "Text(0, 0.5, 'Cost')"
      ]
     },
     "execution_count": 491,
     "metadata": {},
     "output_type": "execute_result"
    },
    {
     "data": {
      "image/png": "[encoded data removed]",
      "text/plain": [
       "<Figure size 432x288 with 1 Axes>"
      ]
     },
     "metadata": {
      "needs_background": "light"
     },
     "output_type": "display_data"
    }
   ],
   "source": [
    "plot.plot(T.J)\n",
    "grid(1)\n",
    "xlabel('Iterations')\n",
    "ylabel('Cost')"
   ]
  },
  {
   "cell_type": "code",
   "execution_count": null,
   "metadata": {},
   "outputs": [
    {
     "data": {
      "text/plain": [
       "(array([[ 6.62840825e-07, -1.72629620e-06,  3.55500802e-07],\n",
       "        [ 9.19575471e-07, -6.50067731e-06,  1.37804846e-06]]),\n",
       " array([[ 4.94014777e-06],\n",
       "        [ 2.58630023e-06],\n",
       "        [-2.22349788e-06]]))"
      ]
     },
     "execution_count": 492,
     "metadata": {},
     "output_type": "execute_result"
    }
   ],
   "source": [
    "NN.costFunctionPrime(X,y)"
   ]
  },
  {
   "cell_type": "code",
   "execution_count": null,
   "metadata": {},
   "outputs": [
    {
     "data": {
      "text/plain": [
       "array([[0.75004672],\n",
       "       [0.82005379],\n",
       "       [0.92983627]])"
      ]
     },
     "execution_count": 494,
     "metadata": {},
     "output_type": "execute_result"
    }
   ],
   "source": [
    "# Run data through trained network\n",
    "NN.forward(X)"
   ]
  },
  {
   "cell_type": "code",
   "execution_count": null,
   "metadata": {},
   "outputs": [
    {
     "data": {
      "text/plain": [
       "array([[0.75],\n",
       "       [0.82],\n",
       "       [0.93]])"
      ]
     },
     "execution_count": 485,
     "metadata": {},
     "output_type": "execute_result"
    }
   ],
   "source": [
    "y"
   ]
  },
  {
   "cell_type": "code",
   "execution_count": null,
   "metadata": {},
   "outputs": [],
   "source": [
    "#Test network for various combinations of sleep/study:\n",
    "hoursSleep = np.linspace(0, 10, 100)\n",
    "hoursStudy = np.linspace(0, 5, 100)\n",
    "\n",
    "#Normalize data (same way training data way normalized)\n",
    "hoursSleepNorm = hoursSleep/10.\n",
    "hoursStudyNorm = hoursStudy/5.\n",
    "\n",
    "#Create 2-d versions of input for plotting\n",
    "a, b  = np.meshgrid(hoursSleepNorm, hoursStudyNorm)\n",
    "\n",
    "#Join into a single input matrix:\n",
    "allInputs = np.zeros((a.size, 2))\n",
    "allInputs[:, 0] = a.ravel()\n",
    "allInputs[:, 1] = b.ravel()"
   ]
  },
  {
   "cell_type": "code",
   "execution_count": null,
   "metadata": {},
   "outputs": [],
   "source": [
    "allOutputs = NN.forward(allInputs)"
   ]
  },
  {
   "cell_type": "code",
   "execution_count": null,
   "metadata": {},
   "outputs": [
    {
     "data": {
      "text/plain": [
       "Text(0, 0.5, 'Hours Study')"
      ]
     },
     "execution_count": 451,
     "metadata": {},
     "output_type": "execute_result"
    },
    {
     "data": {
      "image/png": "[encoded data removed]",
      "text/plain": [
       "<Figure size 432x288 with 1 Axes>"
      ]
     },
     "metadata": {
      "needs_background": "light"
     },
     "output_type": "display_data"
    }
   ],
   "source": [
    "#Contour Plot:\n",
    "yy = np.dot(hoursStudy.reshape(100,1), np.ones((1,100)))\n",
    "xx = np.dot(hoursSleep.reshape(100,1), np.ones((1,100))).T\n",
    "\n",
    "CS = contour(xx,yy,100*allOutputs.reshape(100, 100))\n",
    "plot.clabel(CS, inline=1, fontsize=10)\n",
    "xlabel('Hours Sleep')\n",
    "ylabel('Hours Study')"
   ]
  },
  {
   "cell_type": "code",
   "execution_count": null,
   "metadata": {},
   "outputs": [
    {
     "name": "stderr",
     "output_type": "stream",
     "text": [
      "<ipython-input-452-78ef29b1a736>:8: MatplotlibDeprecationWarning: Calling gca() with keyword arguments was deprecated in Matplotlib 3.4. Starting two minor releases later, gca() will take no keyword arguments. The gca() function should only be used to get the current axes, or if no axes exist, create new axes with default keyword arguments. To create a new axes with non-default arguments, use plt.axes() or plt.subplot().\n",
      "  ax = fig.gca(projection='3d')\n"
     ]
    },
    {
     "data": {
      "text/plain": [
       "Text(0.5, 0, 'Test Score')"
      ]
     },
     "execution_count": 452,
     "metadata": {},
     "output_type": "execute_result"
    },
    {
     "data": {
      "image/png": "[encoded data removed]",
      "text/plain": [
       "<Figure size 432x288 with 1 Axes>"
      ]
     },
     "metadata": {
      "needs_background": "light"
     },
     "output_type": "display_data"
    }
   ],
   "source": [
    "#3D plot:\n",
    "\n",
    "##Uncomment to plot out-of-notebook (you'll be able to rotate)\n",
    "#%matplotlib qt\n",
    "\n",
    "from mpl_toolkits.mplot3d import Axes3D\n",
    "fig = plot.figure()\n",
    "ax = fig.gca(projection='3d')\n",
    "\n",
    "surf = ax.plot_surface(xx, yy, 100*allOutputs.reshape(100, 100), \\\n",
    "                       cmap=plot.cm.jet)\n",
    "\n",
    "ax.set_xlabel('Hours Sleep')\n",
    "ax.set_ylabel('Hours Study')\n",
    "ax.set_zlabel('Test Score')"
   ]
  },
  {
   "cell_type": "code",
   "execution_count": null,
   "metadata": {},
   "outputs": [],
   "source": [
    "# X = (hours sleeping, hours studying), y = Score on test\n",
    "X = np.array(([3,5], [5,1], [10,2], [6,1.5]), dtype=float)\n",
    "y = np.array(([75], [82], [93], [70]), dtype=float)"
   ]
  },
  {
   "cell_type": "code",
   "execution_count": null,
   "metadata": {},
   "outputs": [
    {
     "data": {
      "text/plain": [
       "Text(0, 0.5, 'Test Score')"
      ]
     },
     "execution_count": 504,
     "metadata": {},
     "output_type": "execute_result"
    },
    {
     "data": {
      "image/png": "[encoded data removed]",
      "text/plain": [
       "<Figure size 576x216 with 2 Axes>"
      ]
     },
     "metadata": {
      "needs_background": "light"
     },
     "output_type": "display_data"
    }
   ],
   "source": [
    "#Plot our new data\n",
    "fig = plot.figure(0, (8,3))\n",
    "\n",
    "plot.subplot(1,2,1)\n",
    "plot.scatter(X[:,0], y)\n",
    "grid(1)\n",
    "xlabel('Hours Studying')\n",
    "ylabel('Test Score')\n",
    "\n",
    "plot.subplot(1,2,2)\n",
    "plot.scatter(X[:,1], y)\n",
    "grid(1)\n",
    "xlabel('Hours Studying')\n",
    "ylabel('Test Score')"
   ]
  }
 ],
 "metadata": {
  "interpreter": {
   "hash": "aee8b7b246df8f9039afb4144a1f6fd8d2ca17a180786b69acc140d282b71a49"
  },
  "kernelspec": {
   "display_name": "Python 3.9.7 64-bit",
   "name": "python3"
  },
  "language_info": {
   "codemirror_mode": {
    "name": "ipython",
    "version": 3
   },
   "file_extension": ".py",
   "mimetype": "text/x-python",
   "name": "python",
   "nbconvert_exporter": "python",
   "pygments_lexer": "ipython3",
   "version": "3.9.7"
  },
  "orig_nbformat": 4
 },
 "nbformat": 4,
 "nbformat_minor": 2
}
